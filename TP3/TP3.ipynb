{
  "cells": [
    {
      "cell_type": "markdown",
      "source": [
        "# Código de inicialización\n",
        "Este código permite inicializar las bibliotecas para usar SQLite en la máquina virtual de Google Colab. El código además elimina cualquier dato almacenado anteriormente en el archvio `ejemplos.db`. Es recomendable volver a correr el código cada vez que se comience con la resolución de un nuevo ejercicio."
      ],
      "metadata": {
        "id": "QuMn1Lbbdz7p"
      },
      "id": "QuMn1Lbbdz7p"
    },
    {
      "cell_type": "code",
      "source": [
        "!pip install pymysql\n",
        "%load_ext sql\n",
        "!rm -rf ejemplos.db\n",
        "%sql sqlite:///ejemplos.db"
      ],
      "metadata": {
        "id": "DRIupxipNuoC",
        "colab": {
          "base_uri": "https://localhost:8080/"
        },
        "outputId": "f9c3f0fc-9cd8-4c12-a03f-ab6987c042a1"
      },
      "id": "DRIupxipNuoC",
      "execution_count": 1,
      "outputs": [
        {
          "output_type": "stream",
          "name": "stdout",
          "text": [
            "Collecting pymysql\n",
            "  Downloading PyMySQL-1.1.1-py3-none-any.whl.metadata (4.4 kB)\n",
            "Downloading PyMySQL-1.1.1-py3-none-any.whl (44 kB)\n",
            "\u001b[?25l   \u001b[90m━━━━━━━━━━━━━━━━━━━━━━━━━━━━━━━━━━━━━━━━\u001b[0m \u001b[32m0.0/45.0 kB\u001b[0m \u001b[31m?\u001b[0m eta \u001b[36m-:--:--\u001b[0m\r\u001b[2K   \u001b[90m━━━━━━━━━━━━━━━━━━━━━━━━━━━━━━━━━━━━━━━━\u001b[0m \u001b[32m45.0/45.0 kB\u001b[0m \u001b[31m2.0 MB/s\u001b[0m eta \u001b[36m0:00:00\u001b[0m\n",
            "\u001b[?25hInstalling collected packages: pymysql\n",
            "Successfully installed pymysql-1.1.1\n"
          ]
        }
      ]
    },
    {
      "cell_type": "markdown",
      "source": [
        "# EJERCICIOS DE GROUP y HAVING"
      ],
      "metadata": {
        "id": "cVK-sijYVIH5"
      },
      "id": "cVK-sijYVIH5"
    },
    {
      "cell_type": "markdown",
      "metadata": {
        "id": "NsVx4_K4NiXp"
      },
      "source": [
        "## Ejercicio 1: Ventas por Ciudad de distintos insumos informáticos\n",
        "\n",
        "Tienes dos tablas llamadas `Ventas` y `Productos`:\n",
        "\n",
        "- La tabla `Ventas` tiene las siguientes columnas:\n",
        "  - `VentaID` (INT)\n",
        "  - `ProductoID` (INT, FOREIGN KEY que referencia a `Productos(ProductoID)`)\n",
        "  - `CantidadVendida` (INT)\n",
        "  - `PrecioUnitario` (DECIMAL)\n",
        "  - `Ciudad` (VARCHAR)\n",
        "\n",
        "- La tabla `Productos` tiene las siguientes columnas:\n",
        "  - `ProductoID` (INT, PRIMARY KEY)\n",
        "  - `NombreProducto` (VARCHAR)\n",
        "  - `Precio` (DECIMAL)\n",
        "\n",
        "Deseas analizar las ventas por ciudad, combinando la información de ambas tablas para mostrar el nombre de los productos vendidos y el total de ingresos generados por cada ciudad."
      ],
      "id": "NsVx4_K4NiXp"
    },
    {
      "cell_type": "code",
      "execution_count": 2,
      "metadata": {
        "id": "k5xOpu04NiXr",
        "colab": {
          "base_uri": "https://localhost:8080/"
        },
        "outputId": "43549eb3-199f-442a-d240-62203e44d481"
      },
      "outputs": [
        {
          "output_type": "stream",
          "name": "stdout",
          "text": [
            " * sqlite:///ejemplos.db\n",
            "Done.\n",
            "Done.\n"
          ]
        },
        {
          "output_type": "execute_result",
          "data": {
            "text/plain": [
              "[]"
            ]
          },
          "metadata": {},
          "execution_count": 2
        }
      ],
      "source": [
        "%%sql\n",
        "CREATE TABLE Productos (\n",
        "  ProductoID INT PRIMARY KEY,\n",
        "  NombreProducto VARCHAR(255),\n",
        "  Precio DECIMAL\n",
        ");\n",
        "CREATE TABLE Ventas (\n",
        "  VentaID INT PRIMARY KEY,\n",
        "  ProductoID INT,\n",
        "  CantidadVendida INT,\n",
        "  PrecioUnitario DECIMAL,\n",
        "  Ciudad VARCHAR(255),\n",
        "  FOREIGN KEY (ProductoID) REFERENCES Productos(ProductoID)\n",
        ");"
      ],
      "id": "k5xOpu04NiXr"
    },
    {
      "cell_type": "markdown",
      "metadata": {
        "id": "im4yKrVtNiXt"
      },
      "source": [
        "**Rellenado de la tabla Ventas**\n",
        "\n"
      ],
      "id": "im4yKrVtNiXt"
    },
    {
      "cell_type": "code",
      "execution_count": 3,
      "id": "71b6196d",
      "metadata": {
        "id": "71b6196d",
        "colab": {
          "base_uri": "https://localhost:8080/"
        },
        "outputId": "2d1d9af8-01f2-4955-9c58-c2385111d3b7"
      },
      "outputs": [
        {
          "output_type": "stream",
          "name": "stdout",
          "text": [
            " * sqlite:///ejemplos.db\n",
            "1 rows affected.\n",
            "1 rows affected.\n",
            "1 rows affected.\n",
            "1 rows affected.\n",
            "1 rows affected.\n",
            "1 rows affected.\n",
            "1 rows affected.\n",
            "1 rows affected.\n",
            "1 rows affected.\n",
            "1 rows affected.\n",
            "1 rows affected.\n",
            "1 rows affected.\n",
            "1 rows affected.\n",
            "1 rows affected.\n",
            "1 rows affected.\n",
            "1 rows affected.\n",
            "1 rows affected.\n",
            "1 rows affected.\n",
            "1 rows affected.\n",
            "1 rows affected.\n",
            "1 rows affected.\n",
            "1 rows affected.\n",
            "1 rows affected.\n",
            "1 rows affected.\n",
            "1 rows affected.\n",
            "1 rows affected.\n",
            "1 rows affected.\n",
            "1 rows affected.\n",
            "1 rows affected.\n",
            "1 rows affected.\n"
          ]
        },
        {
          "output_type": "execute_result",
          "data": {
            "text/plain": [
              "[]"
            ]
          },
          "metadata": {},
          "execution_count": 3
        }
      ],
      "source": [
        "# Población de la tabla Ventas\n",
        "# Insertar datos en la tabla Ventas\n",
        "%%sql\n",
        "INSERT INTO Ventas (VentaID, ProductoID, CantidadVendida, PrecioUnitario, Ciudad) VALUES (5, 1, 6, 45.00, 'Buenos Aires');\n",
        "INSERT INTO Ventas (VentaID, ProductoID, CantidadVendida, PrecioUnitario, Ciudad) VALUES (6, 12, 9, 35.00, 'Córdoba');\n",
        "INSERT INTO Ventas (VentaID, ProductoID, CantidadVendida, PrecioUnitario, Ciudad) VALUES (7, 2, 4, 20.00, 'Rosario');\n",
        "INSERT INTO Ventas (VentaID, ProductoID, CantidadVendida, PrecioUnitario, Ciudad) VALUES (8, 13, 12, 60.00, 'Mendoza');\n",
        "INSERT INTO Ventas (VentaID, ProductoID, CantidadVendida, PrecioUnitario, Ciudad) VALUES (9, 3, 7, 55.00, 'La Plata');\n",
        "INSERT INTO Ventas (VentaID, ProductoID, CantidadVendida, PrecioUnitario, Ciudad) VALUES (10, 3, 5, 32.50, 'San Miguel de Tucumán');\n",
        "INSERT INTO Ventas (VentaID, ProductoID, CantidadVendida, PrecioUnitario, Ciudad) VALUES (11, 11, 3, 28.00, 'Salta');\n",
        "INSERT INTO Ventas (VentaID, ProductoID, CantidadVendida, PrecioUnitario, Ciudad) VALUES (12, 11, 8, 40.00, 'Mar del Plata');\n",
        "INSERT INTO Ventas (VentaID, ProductoID, CantidadVendida, PrecioUnitario, Ciudad) VALUES (13, 11, 11, 70.00, 'Santa Fe');\n",
        "INSERT INTO Ventas (VentaID, ProductoID, CantidadVendida, PrecioUnitario, Ciudad) VALUES (14, 11, 4, 25.00, 'San Juan');\n",
        "INSERT INTO Ventas (VentaID, ProductoID, CantidadVendida, PrecioUnitario, Ciudad) VALUES (15, 11, 9, 35.00, 'Neuquén');\n",
        "INSERT INTO Ventas (VentaID, ProductoID, CantidadVendida, PrecioUnitario, Ciudad) VALUES (16, 11, 6, 45.00, 'Posadas');\n",
        "INSERT INTO Ventas (VentaID, ProductoID, CantidadVendida, PrecioUnitario, Ciudad) VALUES (17, 13, 10, 50.00, 'Bahía Blanca');\n",
        "INSERT INTO Ventas (VentaID, ProductoID, CantidadVendida, PrecioUnitario, Ciudad) VALUES (18, 11, 12, 65.00, 'San Salvador de Jujuy');\n",
        "INSERT INTO Ventas (VentaID, ProductoID, CantidadVendida, PrecioUnitario, Ciudad) VALUES (19, 15, 3, 22.50, 'Comodoro Rivadavia');\n",
        "\n",
        "INSERT INTO Productos (ProductoID, NombreProducto, Precio) VALUES (1, 'Teclado Mecánico', 75.00);\n",
        "INSERT INTO Productos (ProductoID, NombreProducto, Precio) VALUES (2, 'Mouse Inalámbrico', 45.00);\n",
        "INSERT INTO Productos (ProductoID, NombreProducto, Precio) VALUES (3, 'Monitor 24 Pulgadas', 150.00);\n",
        "INSERT INTO Productos (ProductoID, NombreProducto, Precio) VALUES (4, 'Disco Duro SSD 1TB', 120.00);\n",
        "INSERT INTO Productos (ProductoID, NombreProducto, Precio) VALUES (5, 'Memoria RAM 16GB', 80.00);\n",
        "INSERT INTO Productos (ProductoID, NombreProducto, Precio) VALUES (6, 'Placa Madre ATX', 200.00);\n",
        "INSERT INTO Productos (ProductoID, NombreProducto, Precio) VALUES (7, 'Tarjeta Gráfica 6GB', 350.00);\n",
        "INSERT INTO Productos (ProductoID, NombreProducto, Precio) VALUES (8, 'Auriculares con Micrófono', 60.00);\n",
        "INSERT INTO Productos (ProductoID, NombreProducto, Precio) VALUES (9, 'Cámara Web HD', 55.00);\n",
        "INSERT INTO Productos (ProductoID, NombreProducto, Precio) VALUES (10, 'Micrófono de Condensador', 90.00);\n",
        "INSERT INTO Productos (ProductoID, NombreProducto, Precio) VALUES (11, 'Router WiFi 6', 130.00);\n",
        "INSERT INTO Productos (ProductoID, NombreProducto, Precio) VALUES (12, 'Impresora Láser', 180.00);\n",
        "INSERT INTO Productos (ProductoID, NombreProducto, Precio) VALUES (13, 'Soporte Monitor Ajustable', 25.00);\n",
        "INSERT INTO Productos (ProductoID, NombreProducto, Precio) VALUES (14, 'Teclado Inalámbrico', 50.00);\n",
        "INSERT INTO Productos (ProductoID, NombreProducto, Precio) VALUES (15, 'Mouse Gaming', 40.00);\n",
        "\n"
      ]
    },
    {
      "cell_type": "markdown",
      "metadata": {
        "id": "622zROEDNiXt"
      },
      "source": [
        "**Consignas del ejercicio:**\n",
        "\n",
        "1. Encuentre el total de ingresos (`CantidadVendida * PrecioUnitario`) por cada ciudad.\n"
      ],
      "id": "622zROEDNiXt"
    },
    {
      "cell_type": "code",
      "execution_count": 11,
      "metadata": {
        "id": "zuIw9B9UNiXu",
        "colab": {
          "base_uri": "https://localhost:8080/",
          "height": 395
        },
        "outputId": "088b5563-247b-43e2-ba50-d76216029e2d"
      },
      "outputs": [
        {
          "output_type": "stream",
          "name": "stdout",
          "text": [
            " * sqlite:///ejemplos.db\n",
            "Done.\n"
          ]
        },
        {
          "output_type": "execute_result",
          "data": {
            "text/plain": [
              "[('San Salvador de Jujuy', 780),\n",
              " ('Santa Fe', 770),\n",
              " ('Mendoza', 720),\n",
              " ('Bahía Blanca', 500),\n",
              " ('La Plata', 385),\n",
              " ('Mar del Plata', 320),\n",
              " ('Neuquén', 315),\n",
              " ('Córdoba', 315),\n",
              " ('Posadas', 270),\n",
              " ('Buenos Aires', 270),\n",
              " ('San Miguel de Tucumán', 162.5),\n",
              " ('San Juan', 100),\n",
              " ('Salta', 84),\n",
              " ('Rosario', 80),\n",
              " ('Comodoro Rivadavia', 67.5)]"
            ],
            "text/html": [
              "<table>\n",
              "    <thead>\n",
              "        <tr>\n",
              "            <th>Ciudad</th>\n",
              "            <th>TotalIngresos</th>\n",
              "        </tr>\n",
              "    </thead>\n",
              "    <tbody>\n",
              "        <tr>\n",
              "            <td>San Salvador de Jujuy</td>\n",
              "            <td>780</td>\n",
              "        </tr>\n",
              "        <tr>\n",
              "            <td>Santa Fe</td>\n",
              "            <td>770</td>\n",
              "        </tr>\n",
              "        <tr>\n",
              "            <td>Mendoza</td>\n",
              "            <td>720</td>\n",
              "        </tr>\n",
              "        <tr>\n",
              "            <td>Bahía Blanca</td>\n",
              "            <td>500</td>\n",
              "        </tr>\n",
              "        <tr>\n",
              "            <td>La Plata</td>\n",
              "            <td>385</td>\n",
              "        </tr>\n",
              "        <tr>\n",
              "            <td>Mar del Plata</td>\n",
              "            <td>320</td>\n",
              "        </tr>\n",
              "        <tr>\n",
              "            <td>Neuquén</td>\n",
              "            <td>315</td>\n",
              "        </tr>\n",
              "        <tr>\n",
              "            <td>Córdoba</td>\n",
              "            <td>315</td>\n",
              "        </tr>\n",
              "        <tr>\n",
              "            <td>Posadas</td>\n",
              "            <td>270</td>\n",
              "        </tr>\n",
              "        <tr>\n",
              "            <td>Buenos Aires</td>\n",
              "            <td>270</td>\n",
              "        </tr>\n",
              "        <tr>\n",
              "            <td>San Miguel de Tucumán</td>\n",
              "            <td>162.5</td>\n",
              "        </tr>\n",
              "        <tr>\n",
              "            <td>San Juan</td>\n",
              "            <td>100</td>\n",
              "        </tr>\n",
              "        <tr>\n",
              "            <td>Salta</td>\n",
              "            <td>84</td>\n",
              "        </tr>\n",
              "        <tr>\n",
              "            <td>Rosario</td>\n",
              "            <td>80</td>\n",
              "        </tr>\n",
              "        <tr>\n",
              "            <td>Comodoro Rivadavia</td>\n",
              "            <td>67.5</td>\n",
              "        </tr>\n",
              "    </tbody>\n",
              "</table>"
            ]
          },
          "metadata": {},
          "execution_count": 11
        }
      ],
      "source": [
        "%%sql\n",
        "SELECT Ventas.ciudad, (CantidadVendida*PrecioUnitario) AS TotalIngresos\n",
        "FROM Ventas\n",
        "GROUP BY Ciudad\n",
        "ORDER BY TotalIngresos DESC\n"
      ],
      "id": "zuIw9B9UNiXu"
    },
    {
      "cell_type": "markdown",
      "id": "b96bb132",
      "metadata": {
        "id": "b96bb132"
      },
      "source": [
        "2. Escriba el código SQL para listar las Ciudades cuyo total de ingresos supera los $500."
      ]
    },
    {
      "cell_type": "code",
      "execution_count": 38,
      "metadata": {
        "id": "ACqNMaDGNiXu",
        "colab": {
          "base_uri": "https://localhost:8080/",
          "height": 139
        },
        "outputId": "86f2fcaa-e93f-4f71-d31f-5fd4f63b62bb"
      },
      "outputs": [
        {
          "output_type": "stream",
          "name": "stdout",
          "text": [
            " * sqlite:///ejemplos.db\n",
            "Done.\n"
          ]
        },
        {
          "output_type": "execute_result",
          "data": {
            "text/plain": [
              "[('Mendoza', 720), ('San Salvador de Jujuy', 780), ('Santa Fe', 770)]"
            ],
            "text/html": [
              "<table>\n",
              "    <thead>\n",
              "        <tr>\n",
              "            <th>Ciudad</th>\n",
              "            <th>TotalIngresos</th>\n",
              "        </tr>\n",
              "    </thead>\n",
              "    <tbody>\n",
              "        <tr>\n",
              "            <td>Mendoza</td>\n",
              "            <td>720</td>\n",
              "        </tr>\n",
              "        <tr>\n",
              "            <td>San Salvador de Jujuy</td>\n",
              "            <td>780</td>\n",
              "        </tr>\n",
              "        <tr>\n",
              "            <td>Santa Fe</td>\n",
              "            <td>770</td>\n",
              "        </tr>\n",
              "    </tbody>\n",
              "</table>"
            ]
          },
          "metadata": {},
          "execution_count": 38
        }
      ],
      "source": [
        "%%sql\n",
        "SELECT Ventas.ciudad, (CantidadVendida*PrecioUnitario) AS TotalIngresos\n",
        "FROM Ventas\n",
        "GROUP BY Ciudad\n",
        "HAVING TotalIngresos > 500"
      ],
      "id": "ACqNMaDGNiXu"
    },
    {
      "cell_type": "markdown",
      "id": "7a6a43fe",
      "metadata": {
        "id": "7a6a43fe"
      },
      "source": [
        "3. Modifique la consulta del inciso 2 para ordenar las Ciudades de mayor a menor ingreso total."
      ]
    },
    {
      "cell_type": "code",
      "execution_count": 39,
      "metadata": {
        "id": "kzhBe0qENiXv",
        "colab": {
          "base_uri": "https://localhost:8080/",
          "height": 139
        },
        "outputId": "3c1ba84b-0d14-4f8f-cf63-fa8b04f5a823"
      },
      "outputs": [
        {
          "output_type": "stream",
          "name": "stdout",
          "text": [
            " * sqlite:///ejemplos.db\n",
            "Done.\n"
          ]
        },
        {
          "output_type": "execute_result",
          "data": {
            "text/plain": [
              "[('San Salvador de Jujuy', 780), ('Santa Fe', 770), ('Mendoza', 720)]"
            ],
            "text/html": [
              "<table>\n",
              "    <thead>\n",
              "        <tr>\n",
              "            <th>Ciudad</th>\n",
              "            <th>TotalIngresos</th>\n",
              "        </tr>\n",
              "    </thead>\n",
              "    <tbody>\n",
              "        <tr>\n",
              "            <td>San Salvador de Jujuy</td>\n",
              "            <td>780</td>\n",
              "        </tr>\n",
              "        <tr>\n",
              "            <td>Santa Fe</td>\n",
              "            <td>770</td>\n",
              "        </tr>\n",
              "        <tr>\n",
              "            <td>Mendoza</td>\n",
              "            <td>720</td>\n",
              "        </tr>\n",
              "    </tbody>\n",
              "</table>"
            ]
          },
          "metadata": {},
          "execution_count": 39
        }
      ],
      "source": [
        "%%sql\n",
        "SELECT Ventas.ciudad, (CantidadVendida*PrecioUnitario) AS TotalIngresos\n",
        "FROM Ventas\n",
        "GROUP BY Ciudad\n",
        "HAVING TotalIngresos > 500\n",
        "ORDER BY TotalIngresos DESC"
      ],
      "id": "kzhBe0qENiXv"
    },
    {
      "cell_type": "markdown",
      "metadata": {
        "id": "fRufPLTENiXv"
      },
      "source": [
        "## Ejercicio 2: Promedio de Calificaciones por Curso\n",
        "\n",
        "Considera las siguientes tres tablas:\n",
        "\n",
        "- La tabla **Estudiantes** contiene información sobre los estudiantes inscritos:\n",
        "  - `EstudianteID` (INT, PRIMARY KEY)\n",
        "  - `Nombre` (VARCHAR)\n",
        "\n",
        "- La tabla **Cursos** contiene información sobre los cursos disponibles:\n",
        "  - `CursoID` (INT, PRIMARY KEY)\n",
        "  - `NombreCurso` (VARCHAR)\n",
        "\n",
        "- La tabla **Calificaciones** registra las notas de los estudiantes en los cursos:\n",
        "  - `CalificacionID` (INT, PRIMARY KEY)\n",
        "  - `EstudianteID` (INT, FOREIGN KEY que referencia a `Estudiantes(EstudianteID)`)\n",
        "  - `CursoID` (INT, FOREIGN KEY que referencia a `Cursos(CursoID)`)\n",
        "  - `Nota` (DECIMAL)\n",
        "\n",
        "En este ejercicio, debes analizar el rendimiento de los estudiantes en cada curso, combinando la información de las tres tablas."
      ],
      "id": "fRufPLTENiXv"
    },
    {
      "cell_type": "code",
      "execution_count": 16,
      "metadata": {
        "id": "xd4jJS-oNiXv",
        "colab": {
          "base_uri": "https://localhost:8080/"
        },
        "outputId": "0b9c4ed0-f765-427d-9e79-e7f577f0af2e"
      },
      "outputs": [
        {
          "output_type": "stream",
          "name": "stdout",
          "text": [
            " * sqlite:///ejemplos.db\n",
            "Done.\n",
            "Done.\n",
            "Done.\n"
          ]
        },
        {
          "output_type": "execute_result",
          "data": {
            "text/plain": [
              "[]"
            ]
          },
          "metadata": {},
          "execution_count": 16
        }
      ],
      "source": [
        "%%sql\n",
        "CREATE TABLE Estudiantes(\n",
        "  EstudianteID INT PRIMARY KEY,\n",
        "  Nombre VARCHAR(255)\n",
        ");\n",
        "CREATE TABLE Cursos(\n",
        "  CursoID INT PRIMARY KEY,\n",
        "  NombreCurso VARCHAR(255)\n",
        ");\n",
        "CREATE TABLE Calificaciones(\n",
        "  CalificacionID INT PRIMARY KEY,\n",
        "  EstudianteID INT,\n",
        "  CursoID INT,\n",
        "  Nota DECIMAL,\n",
        "  FOREIGN KEY (EstudianteID) REFERENCES Estudiantes (EstudianteID),\n",
        "  FOREIGN KEY (CursoID) REFERENCES Cursos (CursoID)\n",
        ");\n"
      ],
      "id": "xd4jJS-oNiXv"
    },
    {
      "cell_type": "markdown",
      "metadata": {
        "id": "urovVyAXNiXw"
      },
      "source": [
        "**Población de la tabla Calificaciones**\n",
        "\n"
      ],
      "id": "urovVyAXNiXw"
    },
    {
      "cell_type": "code",
      "execution_count": 17,
      "metadata": {
        "id": "fqMJXxAUNiXw",
        "colab": {
          "base_uri": "https://localhost:8080/"
        },
        "outputId": "a7f32bac-cf81-4639-ba71-3eb871f61562"
      },
      "outputs": [
        {
          "output_type": "stream",
          "name": "stdout",
          "text": [
            " * sqlite:///ejemplos.db\n",
            "1 rows affected.\n",
            "1 rows affected.\n",
            "1 rows affected.\n",
            "1 rows affected.\n",
            "1 rows affected.\n",
            "1 rows affected.\n",
            "1 rows affected.\n",
            "1 rows affected.\n",
            "1 rows affected.\n",
            "1 rows affected.\n",
            "1 rows affected.\n",
            "1 rows affected.\n",
            "1 rows affected.\n",
            "1 rows affected.\n",
            "1 rows affected.\n",
            "1 rows affected.\n",
            "1 rows affected.\n",
            "1 rows affected.\n",
            "1 rows affected.\n",
            "1 rows affected.\n",
            "1 rows affected.\n",
            "1 rows affected.\n",
            "1 rows affected.\n",
            "1 rows affected.\n",
            "1 rows affected.\n",
            "1 rows affected.\n",
            "1 rows affected.\n",
            "1 rows affected.\n",
            "1 rows affected.\n",
            "1 rows affected.\n"
          ]
        },
        {
          "output_type": "execute_result",
          "data": {
            "text/plain": [
              "[]"
            ]
          },
          "metadata": {},
          "execution_count": 17
        }
      ],
      "source": [
        "# Insertar datos en la tabla Calificaciones\n",
        "%%sql\n",
        "\n",
        "INSERT INTO Estudiantes (EstudianteID, Nombre) VALUES (1001, 'Carlos');\n",
        "INSERT INTO Estudiantes (EstudianteID, Nombre) VALUES (1002, 'Maria');\n",
        "INSERT INTO Estudiantes (EstudianteID, Nombre) VALUES (1003, 'Juan');\n",
        "INSERT INTO Estudiantes (EstudianteID, Nombre) VALUES (1004, 'Ana');\n",
        "INSERT INTO Estudiantes (EstudianteID, Nombre) VALUES (1005, 'Luis');\n",
        "INSERT INTO Estudiantes (EstudianteID, Nombre) VALUES (1006, 'Sofia');\n",
        "INSERT INTO Estudiantes (EstudianteID, Nombre) VALUES (1007, 'Diego');\n",
        "INSERT INTO Estudiantes (EstudianteID, Nombre) VALUES (1008, 'Laura');\n",
        "INSERT INTO Estudiantes (EstudianteID, Nombre) VALUES (1009, 'Javier');\n",
        "INSERT INTO Estudiantes (EstudianteID, Nombre) VALUES (1010, 'Fernanda');\n",
        "\n",
        "INSERT INTO Cursos (CursoID, NombreCurso) VALUES (201, 'Matemáticas');\n",
        "INSERT INTO Cursos (CursoID, NombreCurso) VALUES (202, 'Historia');\n",
        "INSERT INTO Cursos (CursoID, NombreCurso) VALUES (203, 'Ciencias');\n",
        "INSERT INTO Cursos (CursoID, NombreCurso) VALUES (204, 'Literatura');\n",
        "INSERT INTO Cursos (CursoID, NombreCurso) VALUES (205, 'Geografía');\n",
        "\n",
        "INSERT INTO Calificaciones (CalificacionID, EstudianteID, CursoID, Nota) VALUES (1, 1001, 201, 88.5);\n",
        "INSERT INTO Calificaciones (CalificacionID, EstudianteID, CursoID, Nota) VALUES (2, 1002, 202, 92.0);\n",
        "INSERT INTO Calificaciones (CalificacionID, EstudianteID, CursoID, Nota) VALUES (3, 1003, 201, 81.0);\n",
        "INSERT INTO Calificaciones (CalificacionID, EstudianteID, CursoID, Nota) VALUES (4, 1004, 203, 79.5);\n",
        "INSERT INTO Calificaciones (CalificacionID, EstudianteID, CursoID, Nota) VALUES (5, 1005, 202, 84.0);\n",
        "INSERT INTO Calificaciones (CalificacionID, EstudianteID, CursoID, Nota) VALUES (6, 1006, 204, 91.5);\n",
        "INSERT INTO Calificaciones (CalificacionID, EstudianteID, CursoID, Nota) VALUES (7, 1007, 205, 75.5);\n",
        "INSERT INTO Calificaciones (CalificacionID, EstudianteID, CursoID, Nota) VALUES (8, 1008, 204, 87.0);\n",
        "INSERT INTO Calificaciones (CalificacionID, EstudianteID, CursoID, Nota) VALUES (9, 1009, 203, 82.5);\n",
        "INSERT INTO Calificaciones (CalificacionID, EstudianteID, CursoID, Nota) VALUES (10, 1010, 205, 78.0);\n",
        "INSERT INTO Calificaciones (CalificacionID, EstudianteID, CursoID, Nota) VALUES (11, 1002, 201, 90.0);\n",
        "INSERT INTO Calificaciones (CalificacionID, EstudianteID, CursoID, Nota) VALUES (12, 1006, 202, 88.0);\n",
        "INSERT INTO Calificaciones (CalificacionID, EstudianteID, CursoID, Nota) VALUES (13, 1003, 203, 85.0);\n",
        "INSERT INTO Calificaciones (CalificacionID, EstudianteID, CursoID, Nota) VALUES (14, 1007, 201, 80.5);\n",
        "INSERT INTO Calificaciones (CalificacionID, EstudianteID, CursoID, Nota) VALUES (15, 1005, 204, 89.5);\n"
      ],
      "id": "fqMJXxAUNiXw"
    },
    {
      "cell_type": "markdown",
      "metadata": {
        "id": "fxLxg4M1NiXw"
      },
      "source": [
        "**Consignas del ejercicio:**\n",
        "\n",
        "1. Encuentre el promedio de `Nota` para cada `Curso`."
      ],
      "id": "fxLxg4M1NiXw"
    },
    {
      "cell_type": "code",
      "execution_count": 20,
      "metadata": {
        "id": "zMGp3kBgNiXw",
        "colab": {
          "base_uri": "https://localhost:8080/",
          "height": 182
        },
        "outputId": "78ee89b2-795a-4a11-c73e-6469021e7989"
      },
      "outputs": [
        {
          "output_type": "stream",
          "name": "stdout",
          "text": [
            " * sqlite:///ejemplos.db\n",
            "Done.\n"
          ]
        },
        {
          "output_type": "execute_result",
          "data": {
            "text/plain": [
              "[('Ciencias', 82.33333333333333),\n",
              " ('Geografía', 76.75),\n",
              " ('Historia', 88.0),\n",
              " ('Literatura', 89.33333333333333),\n",
              " ('Matemáticas', 85.0)]"
            ],
            "text/html": [
              "<table>\n",
              "    <thead>\n",
              "        <tr>\n",
              "            <th>NombreCurso</th>\n",
              "            <th>PromedioNota</th>\n",
              "        </tr>\n",
              "    </thead>\n",
              "    <tbody>\n",
              "        <tr>\n",
              "            <td>Ciencias</td>\n",
              "            <td>82.33333333333333</td>\n",
              "        </tr>\n",
              "        <tr>\n",
              "            <td>Geografía</td>\n",
              "            <td>76.75</td>\n",
              "        </tr>\n",
              "        <tr>\n",
              "            <td>Historia</td>\n",
              "            <td>88.0</td>\n",
              "        </tr>\n",
              "        <tr>\n",
              "            <td>Literatura</td>\n",
              "            <td>89.33333333333333</td>\n",
              "        </tr>\n",
              "        <tr>\n",
              "            <td>Matemáticas</td>\n",
              "            <td>85.0</td>\n",
              "        </tr>\n",
              "    </tbody>\n",
              "</table>"
            ]
          },
          "metadata": {},
          "execution_count": 20
        }
      ],
      "source": [
        "%%sql\n",
        "SELECT Cursos.NombreCurso, AVG(Calificaciones.Nota) AS PromedioNota\n",
        "FROM Cursos\n",
        "JOIN Calificaciones ON Cursos.CursoID = Calificaciones.CursoID\n",
        "GROUP BY Cursos.NombreCurso"
      ],
      "id": "zMGp3kBgNiXw"
    },
    {
      "cell_type": "markdown",
      "id": "722c022c",
      "metadata": {
        "id": "722c022c"
      },
      "source": [
        "2. Escriba el código SQL para listar los cursos con un promedio mayor a 85."
      ]
    },
    {
      "cell_type": "code",
      "execution_count": 24,
      "metadata": {
        "id": "w_YVVudPNiXx",
        "colab": {
          "base_uri": "https://localhost:8080/",
          "height": 118
        },
        "outputId": "9616ca15-a0fa-443d-8dd6-1d3bb7f742ca"
      },
      "outputs": [
        {
          "output_type": "stream",
          "name": "stdout",
          "text": [
            " * sqlite:///ejemplos.db\n",
            "Done.\n"
          ]
        },
        {
          "output_type": "execute_result",
          "data": {
            "text/plain": [
              "[('Historia', 88.0), ('Literatura', 89.33333333333333)]"
            ],
            "text/html": [
              "<table>\n",
              "    <thead>\n",
              "        <tr>\n",
              "            <th>NombreCurso</th>\n",
              "            <th>PromedioNota</th>\n",
              "        </tr>\n",
              "    </thead>\n",
              "    <tbody>\n",
              "        <tr>\n",
              "            <td>Historia</td>\n",
              "            <td>88.0</td>\n",
              "        </tr>\n",
              "        <tr>\n",
              "            <td>Literatura</td>\n",
              "            <td>89.33333333333333</td>\n",
              "        </tr>\n",
              "    </tbody>\n",
              "</table>"
            ]
          },
          "metadata": {},
          "execution_count": 24
        }
      ],
      "source": [
        "%%sql\n",
        "SELECT Cursos.NombreCurso, AVG(Calificaciones.Nota) AS PromedioNota\n",
        "FROM Cursos\n",
        "JOIN Calificaciones ON Cursos.CursoID = Calificaciones.CursoID\n",
        "GROUP BY Cursos.NombreCurso\n",
        "HAVING PromedioNota > 85"
      ],
      "id": "w_YVVudPNiXx"
    },
    {
      "cell_type": "markdown",
      "id": "04841eea",
      "metadata": {
        "id": "04841eea"
      },
      "source": [
        "\n",
        "3. Agregue una columna que muestre el número de estudiantes que han tomado cada curso cuyo promedio supera 85, ordenados en forma descendente por promedio."
      ]
    },
    {
      "cell_type": "code",
      "execution_count": 25,
      "metadata": {
        "id": "TBh31bsgNiXx",
        "colab": {
          "base_uri": "https://localhost:8080/",
          "height": 118
        },
        "outputId": "f5c551d6-2cb4-4459-aa3f-8834394eca0d"
      },
      "outputs": [
        {
          "output_type": "stream",
          "name": "stdout",
          "text": [
            " * sqlite:///ejemplos.db\n",
            "Done.\n"
          ]
        },
        {
          "output_type": "execute_result",
          "data": {
            "text/plain": [
              "[('Literatura', 89.33333333333333, 3), ('Historia', 88.0, 3)]"
            ],
            "text/html": [
              "<table>\n",
              "    <thead>\n",
              "        <tr>\n",
              "            <th>NombreCurso</th>\n",
              "            <th>PromedioNota</th>\n",
              "            <th>NumeroEstudiantes</th>\n",
              "        </tr>\n",
              "    </thead>\n",
              "    <tbody>\n",
              "        <tr>\n",
              "            <td>Literatura</td>\n",
              "            <td>89.33333333333333</td>\n",
              "            <td>3</td>\n",
              "        </tr>\n",
              "        <tr>\n",
              "            <td>Historia</td>\n",
              "            <td>88.0</td>\n",
              "            <td>3</td>\n",
              "        </tr>\n",
              "    </tbody>\n",
              "</table>"
            ]
          },
          "metadata": {},
          "execution_count": 25
        }
      ],
      "source": [
        "%%sql\n",
        "SELECT Cursos.NombreCurso, AVG(Calificaciones.Nota) AS PromedioNota, COUNT(DISTINCT Calificaciones.EstudianteID) AS NumeroEstudiantes\n",
        "FROM Cursos\n",
        "JOIN Calificaciones ON Cursos.CursoID = Calificaciones.CursoID\n",
        "GROUP BY Cursos.NombreCurso\n",
        "HAVING PromedioNota > 85\n",
        "ORDER BY PromedioNota DESC"
      ],
      "id": "TBh31bsgNiXx"
    },
    {
      "cell_type": "markdown",
      "metadata": {
        "id": "ReFeNTPaNiXx"
      },
      "source": [
        "## Ejercicio 3: Conteo de Empleados por Departamento\n",
        "\n",
        "Tienes dos tablas llamadas `Empleados` y `Departamentos`:\n",
        "\n",
        "- La tabla `Empleados` tiene las siguientes columnas:\n",
        "  - `EmpleadoID` (INT)\n",
        "  - `Nombre` (VARCHAR)\n",
        "  - `DepartamentoID` (INT, FOREIGN KEY que referencia a `Departamentos(DepartamentoID)`)\n",
        "  - `Salario` (DECIMAL)\n",
        "\n",
        "- La tabla `Departamentos` tiene las siguientes columnas:\n",
        "  - `DepartamentoID` (INT, PRIMARY KEY)\n",
        "  - `NombreDepartamento` (VARCHAR)\n",
        "\n",
        "Deseas analizar la distribución de empleados en cada departamento, combinando la información de ambas tablas para mostrar el nombre del departamento y el número de empleados por cada uno.\n",
        "\n",
        "**Consignas a responder:**\n",
        "\n"
      ],
      "id": "ReFeNTPaNiXx"
    },
    {
      "cell_type": "code",
      "execution_count": 26,
      "metadata": {
        "id": "TM-JwO9TNiXy",
        "colab": {
          "base_uri": "https://localhost:8080/"
        },
        "outputId": "ef8f01f3-205b-42f6-a345-7fe593dc3577"
      },
      "outputs": [
        {
          "output_type": "stream",
          "name": "stdout",
          "text": [
            " * sqlite:///ejemplos.db\n",
            "Done.\n",
            "Done.\n"
          ]
        },
        {
          "output_type": "execute_result",
          "data": {
            "text/plain": [
              "[]"
            ]
          },
          "metadata": {},
          "execution_count": 26
        }
      ],
      "source": [
        "%%sql\n",
        "CREATE TABLE Departamentos (\n",
        "  DepartamentoID INT PRIMARY KEY,\n",
        "  NombreDepartamento VARCHAR(255)\n",
        ");\n",
        "CREATE TABLE Empleados (\n",
        "  EmpleadoID INT PRIMARY KEY,\n",
        "  Nombre VARCHAR(255),\n",
        "  DepartamentoID INT,\n",
        "  Salario DECIMAL,\n",
        "  FOREIGN KEY (DepartamentoID) REFERENCES Departamentos (DepartamentoID)\n",
        ");"
      ],
      "id": "TM-JwO9TNiXy"
    },
    {
      "cell_type": "markdown",
      "metadata": {
        "id": "50OKu9KYNiXy"
      },
      "source": [
        "**Relleno de las tablas `Empleados` y `Departamentos`**\n",
        "\n"
      ],
      "id": "50OKu9KYNiXy"
    },
    {
      "cell_type": "code",
      "execution_count": 27,
      "metadata": {
        "id": "6GvQ-IV1NiXy",
        "colab": {
          "base_uri": "https://localhost:8080/"
        },
        "outputId": "e95b3ee2-8548-4a99-b1f5-ba6c0a4d09db"
      },
      "outputs": [
        {
          "output_type": "stream",
          "name": "stdout",
          "text": [
            " * sqlite:///ejemplos.db\n",
            "1 rows affected.\n",
            "1 rows affected.\n",
            "1 rows affected.\n",
            "1 rows affected.\n",
            "1 rows affected.\n",
            "1 rows affected.\n",
            "1 rows affected.\n",
            "1 rows affected.\n",
            "1 rows affected.\n",
            "1 rows affected.\n",
            "1 rows affected.\n",
            "1 rows affected.\n",
            "1 rows affected.\n",
            "1 rows affected.\n",
            "1 rows affected.\n",
            "1 rows affected.\n",
            "1 rows affected.\n"
          ]
        },
        {
          "output_type": "execute_result",
          "data": {
            "text/plain": [
              "[]"
            ]
          },
          "metadata": {},
          "execution_count": 27
        }
      ],
      "source": [
        "%%sql\n",
        "INSERT INTO Empleados (EmpleadoID, Nombre, DepartamentoID, Salario) VALUES (5, 'Laura', 101, 3100);\n",
        "INSERT INTO Empleados (EmpleadoID, Nombre, DepartamentoID, Salario) VALUES (6, 'Javier', 104, 3300);\n",
        "INSERT INTO Empleados (EmpleadoID, Nombre, DepartamentoID, Salario) VALUES (7, 'Sofia', 105, 2900);\n",
        "INSERT INTO Empleados (EmpleadoID, Nombre, DepartamentoID, Salario) VALUES (8, 'Lucas', 105, 3700);\n",
        "INSERT INTO Empleados (EmpleadoID, Nombre, DepartamentoID, Salario) VALUES (9, 'Fernanda', 101, 3200);\n",
        "INSERT INTO Empleados (EmpleadoID, Nombre, DepartamentoID, Salario) VALUES (10, 'Diego', 104, 3400);\n",
        "INSERT INTO Empleados (EmpleadoID, Nombre, DepartamentoID, Salario) VALUES (11, 'Martina', 103, 4000);\n",
        "INSERT INTO Empleados (EmpleadoID, Nombre, DepartamentoID, Salario) VALUES (12, 'Gustavo', 105, 2950);\n",
        "INSERT INTO Empleados (EmpleadoID, Nombre, DepartamentoID, Salario) VALUES (13, 'Liliana', 106, 3800);\n",
        "INSERT INTO Empleados (EmpleadoID, Nombre, DepartamentoID, Salario) VALUES (14, 'Gabriel', 106, 4100);\n",
        "INSERT INTO Empleados (EmpleadoID, Nombre, DepartamentoID, Salario) VALUES (15, 'Natalia', 102, 3600);\n",
        "\n",
        "INSERT INTO Departamentos (DepartamentoID, NombreDepartamento) VALUES (101, 'Marketing');\n",
        "INSERT INTO Departamentos (DepartamentoID, NombreDepartamento) VALUES (102, 'Ventas');\n",
        "INSERT INTO Departamentos (DepartamentoID, NombreDepartamento) VALUES (103, 'Recursos Humanos');\n",
        "INSERT INTO Departamentos (DepartamentoID, NombreDepartamento) VALUES (104, 'Desarrollo de Producto');\n",
        "INSERT INTO Departamentos (DepartamentoID, NombreDepartamento) VALUES (105, 'Investigación de Mercado');\n",
        "INSERT INTO Departamentos (DepartamentoID, NombreDepartamento) VALUES (106, 'Atención al Cliente');\n"
      ],
      "id": "6GvQ-IV1NiXy"
    },
    {
      "cell_type": "markdown",
      "metadata": {
        "id": "Oy_3JkD3NiXy"
      },
      "source": [
        "**Consignas del ejercicio:**\n",
        "\n",
        "1. Encuentre el número total de empleados en cada departamento.\n"
      ],
      "id": "Oy_3JkD3NiXy"
    },
    {
      "cell_type": "code",
      "execution_count": 29,
      "metadata": {
        "id": "Z9-3BGMFNiXy",
        "colab": {
          "base_uri": "https://localhost:8080/",
          "height": 203
        },
        "outputId": "144a0e92-9776-4b92-b655-5d9c07646f25"
      },
      "outputs": [
        {
          "output_type": "stream",
          "name": "stdout",
          "text": [
            " * sqlite:///ejemplos.db\n",
            "Done.\n"
          ]
        },
        {
          "output_type": "execute_result",
          "data": {
            "text/plain": [
              "[(2, 'Marketing'),\n",
              " (1, 'Ventas'),\n",
              " (1, 'Recursos Humanos'),\n",
              " (2, 'Desarrollo de Producto'),\n",
              " (3, 'Investigación de Mercado'),\n",
              " (2, 'Atención al Cliente')]"
            ],
            "text/html": [
              "<table>\n",
              "    <thead>\n",
              "        <tr>\n",
              "            <th>CantEmpoleadosPorDepartamento</th>\n",
              "            <th>NombreDepartamento</th>\n",
              "        </tr>\n",
              "    </thead>\n",
              "    <tbody>\n",
              "        <tr>\n",
              "            <td>2</td>\n",
              "            <td>Marketing</td>\n",
              "        </tr>\n",
              "        <tr>\n",
              "            <td>1</td>\n",
              "            <td>Ventas</td>\n",
              "        </tr>\n",
              "        <tr>\n",
              "            <td>1</td>\n",
              "            <td>Recursos Humanos</td>\n",
              "        </tr>\n",
              "        <tr>\n",
              "            <td>2</td>\n",
              "            <td>Desarrollo de Producto</td>\n",
              "        </tr>\n",
              "        <tr>\n",
              "            <td>3</td>\n",
              "            <td>Investigación de Mercado</td>\n",
              "        </tr>\n",
              "        <tr>\n",
              "            <td>2</td>\n",
              "            <td>Atención al Cliente</td>\n",
              "        </tr>\n",
              "    </tbody>\n",
              "</table>"
            ]
          },
          "metadata": {},
          "execution_count": 29
        }
      ],
      "source": [
        "%%sql\n",
        "SELECT COUNT(Empleados.DepartamentoID) AS CantEmpoleadosPorDepartamento, Departamentos.NombreDepartamento\n",
        "FROM Empleados\n",
        "JOIN Departamentos ON Empleados.DepartamentoID = Departamentos.DepartamentoID\n",
        "GROUP BY Empleados.DepartamentoID\n"
      ],
      "id": "Z9-3BGMFNiXy"
    },
    {
      "cell_type": "markdown",
      "id": "dd365a64",
      "metadata": {
        "id": "dd365a64"
      },
      "source": [
        "2. Escriba el código SQL para listar los departamentos que tienen más de 2 empleados."
      ]
    },
    {
      "cell_type": "code",
      "execution_count": 30,
      "metadata": {
        "id": "UYodiO03NiXy",
        "colab": {
          "base_uri": "https://localhost:8080/",
          "height": 96
        },
        "outputId": "03ba0c54-4436-4a16-d3f9-216f6dabcb7e"
      },
      "outputs": [
        {
          "output_type": "stream",
          "name": "stdout",
          "text": [
            " * sqlite:///ejemplos.db\n",
            "Done.\n"
          ]
        },
        {
          "output_type": "execute_result",
          "data": {
            "text/plain": [
              "[(3, 'Investigación de Mercado')]"
            ],
            "text/html": [
              "<table>\n",
              "    <thead>\n",
              "        <tr>\n",
              "            <th>CantEmpoleadosPorDepartamento</th>\n",
              "            <th>NombreDepartamento</th>\n",
              "        </tr>\n",
              "    </thead>\n",
              "    <tbody>\n",
              "        <tr>\n",
              "            <td>3</td>\n",
              "            <td>Investigación de Mercado</td>\n",
              "        </tr>\n",
              "    </tbody>\n",
              "</table>"
            ]
          },
          "metadata": {},
          "execution_count": 30
        }
      ],
      "source": [
        "%%sql\n",
        "SELECT COUNT(Empleados.DepartamentoID) AS CantEmpoleadosPorDepartamento, Departamentos.NombreDepartamento\n",
        "FROM Empleados\n",
        "JOIN Departamentos ON Empleados.DepartamentoID = Departamentos.DepartamentoID\n",
        "GROUP BY Empleados.DepartamentoID\n",
        "HAVING CantEmpoleadosPorDepartamento > 2"
      ],
      "id": "UYodiO03NiXy"
    },
    {
      "cell_type": "markdown",
      "id": "67a157bb",
      "metadata": {
        "id": "67a157bb"
      },
      "source": [
        "\n",
        "3. Muestre el salario promedio de los empleados por cada departamento ordenados promedio en forma descendente."
      ]
    },
    {
      "cell_type": "code",
      "execution_count": 37,
      "metadata": {
        "id": "xfVqujA5NiXy",
        "colab": {
          "base_uri": "https://localhost:8080/",
          "height": 203
        },
        "outputId": "6a143202-2c08-436a-9d79-dde5b3e56126"
      },
      "outputs": [
        {
          "output_type": "stream",
          "name": "stdout",
          "text": [
            " * sqlite:///ejemplos.db\n",
            "Done.\n"
          ]
        },
        {
          "output_type": "execute_result",
          "data": {
            "text/plain": [
              "[(1, 'Recursos Humanos', 4000.0),\n",
              " (2, 'Atención al Cliente', 3950.0),\n",
              " (1, 'Ventas', 3600.0),\n",
              " (2, 'Desarrollo de Producto', 3350.0),\n",
              " (3, 'Investigación de Mercado', 3183.3333333333335),\n",
              " (2, 'Marketing', 3150.0)]"
            ],
            "text/html": [
              "<table>\n",
              "    <thead>\n",
              "        <tr>\n",
              "            <th>CantEmpoleadosPorDepartamento</th>\n",
              "            <th>NombreDepartamento</th>\n",
              "            <th>SalarioPromedio</th>\n",
              "        </tr>\n",
              "    </thead>\n",
              "    <tbody>\n",
              "        <tr>\n",
              "            <td>1</td>\n",
              "            <td>Recursos Humanos</td>\n",
              "            <td>4000.0</td>\n",
              "        </tr>\n",
              "        <tr>\n",
              "            <td>2</td>\n",
              "            <td>Atención al Cliente</td>\n",
              "            <td>3950.0</td>\n",
              "        </tr>\n",
              "        <tr>\n",
              "            <td>1</td>\n",
              "            <td>Ventas</td>\n",
              "            <td>3600.0</td>\n",
              "        </tr>\n",
              "        <tr>\n",
              "            <td>2</td>\n",
              "            <td>Desarrollo de Producto</td>\n",
              "            <td>3350.0</td>\n",
              "        </tr>\n",
              "        <tr>\n",
              "            <td>3</td>\n",
              "            <td>Investigación de Mercado</td>\n",
              "            <td>3183.3333333333335</td>\n",
              "        </tr>\n",
              "        <tr>\n",
              "            <td>2</td>\n",
              "            <td>Marketing</td>\n",
              "            <td>3150.0</td>\n",
              "        </tr>\n",
              "    </tbody>\n",
              "</table>"
            ]
          },
          "metadata": {},
          "execution_count": 37
        }
      ],
      "source": [
        "%%sql\n",
        "SELECT COUNT(Empleados.DepartamentoID) AS CantEmpoleadosPorDepartamento, Departamentos.NombreDepartamento, AVG(Empleados.Salario) AS SalarioPromedio\n",
        "FROM Empleados\n",
        "JOIN Departamentos ON Empleados.DepartamentoID = Departamentos.DepartamentoID\n",
        "GROUP BY Empleados.DepartamentoID\n",
        "ORDER BY SalarioPromedio DESC"
      ],
      "id": "xfVqujA5NiXy"
    }
  ],
  "metadata": {
    "colab": {
      "provenance": []
    },
    "kernelspec": {
      "display_name": "Python 3",
      "name": "python3"
    },
    "language_info": {
      "name": "python"
    }
  },
  "nbformat": 4,
  "nbformat_minor": 5
}